{
 "cells": [
  {
   "cell_type": "code",
   "execution_count": 1,
   "id": "6042ee63-95e9-4b48-b9e5-a6d76fec801a",
   "metadata": {},
   "outputs": [],
   "source": [
    "import abc\n",
    "class dashrath:\n",
    "    \n",
    "    @abc.abstractmethod\n",
    "    def student_detials(self):\n",
    "        pass\n",
    "    \n",
    "    @abc.abstractmethod\n",
    "    def student_assignment(self):\n",
    "        pass\n",
    "    \n",
    "    @abc.abstractmethod\n",
    "    def student_marks(self):\n",
    "        pass"
   ]
  },
  {
   "cell_type": "code",
   "execution_count": 11,
   "id": "9c7bea0c-522f-4264-aa43-af03870e686b",
   "metadata": {},
   "outputs": [],
   "source": [
    "class student_detils(dashrath):\n",
    "    \n",
    "    def students_detials(self):\n",
    "        return \"this is a method for taking students details\"\n",
    "    \n",
    "    def student_assignemnt(self):\n",
    "        return \"this is a method for assing details for a perticular student\""
   ]
  },
  {
   "cell_type": "code",
   "execution_count": 12,
   "id": "1f09502a-8d67-437b-8984-43cbfd3fb495",
   "metadata": {},
   "outputs": [],
   "source": [
    "class data_science_maters(dashrath):\n",
    "    \n",
    "    def students_detials(self):\n",
    "        return \"this will return a student details for data science masters \"\n",
    "    \n",
    "    def student_assignemnt(self):\n",
    "        return \"this will give you a studnt assignment detaild for data science masters \""
   ]
  },
  {
   "cell_type": "code",
   "execution_count": 13,
   "id": "13cf5a68-1888-4ddf-90d3-cb9459d7fe9e",
   "metadata": {},
   "outputs": [
    {
     "data": {
      "text/plain": [
       "'this will return a student details for data science masters '"
      ]
     },
     "execution_count": 13,
     "metadata": {},
     "output_type": "execute_result"
    }
   ],
   "source": [
    "dsm = data_science_maters()\n",
    "dsm.students_detials()"
   ]
  },
  {
   "cell_type": "code",
   "execution_count": 14,
   "id": "d9b9cf75-3de8-45d1-82b2-7d6a8c18eabe",
   "metadata": {},
   "outputs": [
    {
     "data": {
      "text/plain": [
       "'this is a method for taking students details'"
      ]
     },
     "execution_count": 14,
     "metadata": {},
     "output_type": "execute_result"
    }
   ],
   "source": [
    "sd = student_detils()\n",
    "sd.students_detials()"
   ]
  },
  {
   "cell_type": "code",
   "execution_count": null,
   "id": "795d7d5a-2da4-48d1-9c40-2b6b342cd241",
   "metadata": {},
   "outputs": [],
   "source": []
  }
 ],
 "metadata": {
  "kernelspec": {
   "display_name": "Python 3 (ipykernel)",
   "language": "python",
   "name": "python3"
  },
  "language_info": {
   "codemirror_mode": {
    "name": "ipython",
    "version": 3
   },
   "file_extension": ".py",
   "mimetype": "text/x-python",
   "name": "python",
   "nbconvert_exporter": "python",
   "pygments_lexer": "ipython3",
   "version": "3.10.8"
  }
 },
 "nbformat": 4,
 "nbformat_minor": 5
}
