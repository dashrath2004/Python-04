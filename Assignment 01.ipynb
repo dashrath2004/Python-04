{
 "cells": [
  {
   "cell_type": "markdown",
   "id": "d1fb74e2-0a18-4fd5-9156-4fe193be078d",
   "metadata": {},
   "source": [
    "Q1. Explain Class and Object with respect to Object-Oriented Programming. Give a suitable example."
   ]
  },
  {
   "cell_type": "raw",
   "id": "c366c2be-2645-49ef-a8a0-6845500c0439",
   "metadata": {},
   "source": [
    "We know that python also supports the concept of objects and classes. An object is simply a collection of data (variables) and methods (functions). Similarly, a class is a blueprint for that object."
   ]
  },
  {
   "cell_type": "code",
   "execution_count": 1,
   "id": "c2445a46-7837-4d2b-9cdf-08e6a85069db",
   "metadata": {},
   "outputs": [],
   "source": [
    "class dashrath:\n",
    "    def welcome_msg(self):\n",
    "        print(\"welcome to pwskills\")"
   ]
  },
  {
   "cell_type": "code",
   "execution_count": 2,
   "id": "292b81bb-05fd-4a1f-a39e-deacd5f16a66",
   "metadata": {},
   "outputs": [],
   "source": [
    "sohan = dashrath()"
   ]
  },
  {
   "cell_type": "code",
   "execution_count": 4,
   "id": "0577ca96-8237-40a2-891f-9df0e68eebd4",
   "metadata": {},
   "outputs": [
    {
     "name": "stdout",
     "output_type": "stream",
     "text": [
      "welcome to pwskills\n"
     ]
    }
   ],
   "source": [
    "sohan.welcome_msg()"
   ]
  },
  {
   "cell_type": "markdown",
   "id": "b0f75770-712d-4ad8-b2ae-9183c8a619fd",
   "metadata": {},
   "source": [
    "Q2. Name the four pillars of OOPs."
   ]
  },
  {
   "cell_type": "raw",
   "id": "394cbb2d-ecb4-4dd9-bdde-a54e90331630",
   "metadata": {},
   "source": [
    "The Name Of Four Pillars In Python :\n",
    "\n",
    "1. Polymorphism\n",
    "\n",
    "2. Encapsulation\n",
    "\n",
    "3. Inheritance\n",
    "\n",
    "4. Abstraction"
   ]
  },
  {
   "cell_type": "markdown",
   "id": "43d17bf5-205d-45a9-b640-ed32fd8e8900",
   "metadata": {},
   "source": [
    "Q3. Explain why the __init__() function is used. Give a suitable example."
   ]
  },
  {
   "cell_type": "raw",
   "id": "e15d3f39-15d8-4194-a60d-f4beb265ca7e",
   "metadata": {},
   "source": [
    "All classes have a function called __init__(), which is always executed when the class is being initiated."
   ]
  },
  {
   "cell_type": "code",
   "execution_count": 5,
   "id": "8fe6d2d9-c296-4f9c-93b4-4b82bbec57bd",
   "metadata": {},
   "outputs": [],
   "source": [
    "class dashrath:\n",
    "    \n",
    "    def __init__(self, phone_number, email_id, student_id):\n",
    "        self.phone_number = phone_number\n",
    "        self.email_id = email_id\n",
    "        self.student_id = student_id\n",
    "        \n",
    "    def return_students_detalis(self):\n",
    "        return self.phone_number, self.email_id, self.student_id"
   ]
  },
  {
   "cell_type": "code",
   "execution_count": 6,
   "id": "7c104d98-9c15-4bce-83d7-38d8ed9c70e7",
   "metadata": {},
   "outputs": [],
   "source": [
    "sohan = dashrath(746782637 , \"sohan@gmail.com\" , 201)"
   ]
  },
  {
   "cell_type": "code",
   "execution_count": 7,
   "id": "227838da-18c4-41f1-bd21-86b40da34d7e",
   "metadata": {},
   "outputs": [
    {
     "data": {
      "text/plain": [
       "(746782637, 'sohan@gmail.com', 201)"
      ]
     },
     "execution_count": 7,
     "metadata": {},
     "output_type": "execute_result"
    }
   ],
   "source": [
    "sohan.return_students_detalis()"
   ]
  },
  {
   "cell_type": "markdown",
   "id": "a96218ba-1f03-44a7-9e9c-f9ec43558656",
   "metadata": {},
   "source": [
    "Q4. Why self is used in OOPs?"
   ]
  },
  {
   "cell_type": "raw",
   "id": "31d86728-200f-4880-85f5-92a1408bb7a7",
   "metadata": {},
   "source": [
    "The self is used to represent the instance of the class. With this keyword, you can access the attributes and methods of the class in python."
   ]
  },
  {
   "cell_type": "markdown",
   "id": "d8eb154c-31a1-406c-b52b-f65c5492589a",
   "metadata": {},
   "source": [
    "Q5. What is inheritance? Give an example for each type of inheritance."
   ]
  },
  {
   "cell_type": "raw",
   "id": "58cd7a86-7909-45e2-9361-2425ab9dee69",
   "metadata": {},
   "source": [
    "Inheritance allows us to define a class that inherits all the methods and properties from another class. Parent class is the class being inherited from, also called base class. Child class is the class that inherits from another class, also called derived class.\n"
   ]
  },
  {
   "cell_type": "raw",
   "id": "8eacc4a6-ad67-4c2b-926b-9b2988d54baf",
   "metadata": {},
   "source": [
    "The Types Of Inheritance -- 5"
   ]
  },
  {
   "cell_type": "markdown",
   "id": "838cc762-ad5e-49ad-8fde-b34afd63872d",
   "metadata": {},
   "source": [
    "1. Single Inheritance"
   ]
  },
  {
   "cell_type": "code",
   "execution_count": 1,
   "id": "beb34b9b-0c2d-4c1f-8ea2-436f5d4b1744",
   "metadata": {},
   "outputs": [],
   "source": [
    "class parent:\n",
    "    \n",
    "    def test_parent(self):\n",
    "        return \"this is my parent\""
   ]
  },
  {
   "cell_type": "code",
   "execution_count": 2,
   "id": "a95da0c2-f1c8-4e4d-a3dd-d0fd73919c01",
   "metadata": {},
   "outputs": [],
   "source": [
    "class child(parent):\n",
    "    pass"
   ]
  },
  {
   "cell_type": "code",
   "execution_count": 3,
   "id": "913ee55c-95ec-4472-bd16-b1e3d3616249",
   "metadata": {},
   "outputs": [],
   "source": [
    "child_obj = child()"
   ]
  },
  {
   "cell_type": "code",
   "execution_count": 4,
   "id": "969c68c1-89ca-4e8c-a780-533dccb68979",
   "metadata": {},
   "outputs": [
    {
     "data": {
      "text/plain": [
       "'this is my parent'"
      ]
     },
     "execution_count": 4,
     "metadata": {},
     "output_type": "execute_result"
    }
   ],
   "source": [
    "child_obj.test_parent()"
   ]
  },
  {
   "cell_type": "markdown",
   "id": "300bdcfa-7f43-4384-a8bb-bc9671f91d53",
   "metadata": {},
   "source": [
    "2. Multilevel Inheritance "
   ]
  },
  {
   "cell_type": "code",
   "execution_count": 8,
   "id": "35593ad5-a9aa-42d5-98e8-33e753965cdd",
   "metadata": {},
   "outputs": [],
   "source": [
    "class class1 :\n",
    "    def test_class1(self) : \n",
    "        print(\"this is my class1 \" )"
   ]
  },
  {
   "cell_type": "code",
   "execution_count": 9,
   "id": "b11a4d10-e043-4bf0-8f7c-c0463123ec8a",
   "metadata": {},
   "outputs": [],
   "source": [
    "class class2(class1) : \n",
    "    def test_class2(self) : \n",
    "        print(\"this is my class2\" )"
   ]
  },
  {
   "cell_type": "code",
   "execution_count": 10,
   "id": "ab994e49-096d-4e43-b8a6-a7108d2447ea",
   "metadata": {},
   "outputs": [],
   "source": [
    "class class3(class2) : \n",
    "    def test_class3(self) : \n",
    "        print(\"this is my class3 \")"
   ]
  },
  {
   "cell_type": "code",
   "execution_count": 11,
   "id": "b01d6afd-b4cc-49a2-a51d-4bfa0737140c",
   "metadata": {},
   "outputs": [],
   "source": [
    "obj_class3  = class3()"
   ]
  },
  {
   "cell_type": "code",
   "execution_count": 12,
   "id": "2efe8d17-a3b3-48a9-a143-9a6c0fc69f21",
   "metadata": {},
   "outputs": [
    {
     "name": "stdout",
     "output_type": "stream",
     "text": [
      "this is my class1 \n"
     ]
    }
   ],
   "source": [
    "obj_class3.test_class1()"
   ]
  },
  {
   "cell_type": "code",
   "execution_count": 13,
   "id": "c867a194-2116-4414-8a68-e72a869e58a5",
   "metadata": {},
   "outputs": [
    {
     "name": "stdout",
     "output_type": "stream",
     "text": [
      "this is my class3 \n"
     ]
    }
   ],
   "source": [
    "obj_class3.test_class3()"
   ]
  },
  {
   "cell_type": "markdown",
   "id": "d6ca51ad-c34d-42fe-bed8-92dd124e1b48",
   "metadata": {},
   "source": [
    "3. Multiple Inheritance"
   ]
  },
  {
   "cell_type": "code",
   "execution_count": 6,
   "id": "e56d8cb7-f124-4ed1-97aa-a6430678cd0c",
   "metadata": {},
   "outputs": [],
   "source": [
    "class class1:\n",
    "    def test_class1(self) : \n",
    "        print(\"this is my class 1\" )"
   ]
  },
  {
   "cell_type": "code",
   "execution_count": 7,
   "id": "590b137f-6043-49f8-bac2-60b2dabbbe70",
   "metadata": {},
   "outputs": [],
   "source": [
    "class class2:\n",
    "    def test_class2(self) : \n",
    "        print(\"this is my class 2\" )"
   ]
  },
  {
   "cell_type": "code",
   "execution_count": 8,
   "id": "5051090c-400f-4620-9b8c-ef383cde759a",
   "metadata": {},
   "outputs": [],
   "source": [
    "class class3(class1 , class2):\n",
    "    pass"
   ]
  },
  {
   "cell_type": "code",
   "execution_count": 9,
   "id": "33216b00-cb4f-42a5-87a2-30fd7d707364",
   "metadata": {},
   "outputs": [],
   "source": [
    "obj_class3 = class3()"
   ]
  },
  {
   "cell_type": "code",
   "execution_count": 10,
   "id": "5f5175b7-8d64-4db5-b850-caa6def27c93",
   "metadata": {},
   "outputs": [
    {
     "name": "stdout",
     "output_type": "stream",
     "text": [
      "this is my class 1\n"
     ]
    }
   ],
   "source": [
    "obj_class3.test_class1()"
   ]
  },
  {
   "cell_type": "code",
   "execution_count": 11,
   "id": "fa577f31-2bad-4649-a14b-8a069a28bda7",
   "metadata": {},
   "outputs": [
    {
     "name": "stdout",
     "output_type": "stream",
     "text": [
      "this is my class 2\n"
     ]
    }
   ],
   "source": [
    "obj_class3.test_class2()"
   ]
  },
  {
   "cell_type": "markdown",
   "id": "be436673-8b68-4c0b-a9c0-5120d4e6de5e",
   "metadata": {},
   "source": [
    "4. Hierarchical Inheritance"
   ]
  },
  {
   "cell_type": "code",
   "execution_count": 12,
   "id": "805d441d-bf1d-40c2-b486-c67bcc22325b",
   "metadata": {},
   "outputs": [],
   "source": [
    "class class1:\n",
    "    \n",
    "    def test_class1(self):\n",
    "        print(\"this is my class1\")  "
   ]
  },
  {
   "cell_type": "code",
   "execution_count": 13,
   "id": "2b2f94a4-e93e-4b29-9e45-4339aaca0d98",
   "metadata": {},
   "outputs": [],
   "source": [
    "class class2(class1):\n",
    "    \n",
    "    def test_class2(self):\n",
    "        print(\"this is my class2\")"
   ]
  },
  {
   "cell_type": "code",
   "execution_count": 14,
   "id": "c3640fb4-5399-48a8-81e5-af4235d43e6d",
   "metadata": {},
   "outputs": [],
   "source": [
    "class class3(class1):\n",
    "    \n",
    "    def test_class3(self):\n",
    "        print(\"this is my class3\")"
   ]
  },
  {
   "cell_type": "code",
   "execution_count": 15,
   "id": "f15d717b-451b-4e6f-818a-a641e08e377f",
   "metadata": {},
   "outputs": [],
   "source": [
    "obj1 = class2()\n",
    "obj2 = class3()"
   ]
  },
  {
   "cell_type": "code",
   "execution_count": 16,
   "id": "a80cc983-d61b-4be3-a3d0-12a253289428",
   "metadata": {},
   "outputs": [
    {
     "name": "stdout",
     "output_type": "stream",
     "text": [
      "this is my class1\n"
     ]
    }
   ],
   "source": [
    "obj1.test_class1()"
   ]
  },
  {
   "cell_type": "code",
   "execution_count": 17,
   "id": "1f66c97f-53e2-47b2-8c54-a8c806d408ea",
   "metadata": {},
   "outputs": [
    {
     "name": "stdout",
     "output_type": "stream",
     "text": [
      "this is my class2\n"
     ]
    }
   ],
   "source": [
    "obj1.test_class2()"
   ]
  },
  {
   "cell_type": "code",
   "execution_count": 18,
   "id": "a496b95d-1786-4044-ad58-5e5a83ed488f",
   "metadata": {},
   "outputs": [
    {
     "name": "stdout",
     "output_type": "stream",
     "text": [
      "this is my class1\n"
     ]
    }
   ],
   "source": [
    "obj2.test_class1()"
   ]
  },
  {
   "cell_type": "code",
   "execution_count": 19,
   "id": "8f6b6386-e056-4483-b49a-fe44e2000447",
   "metadata": {},
   "outputs": [
    {
     "name": "stdout",
     "output_type": "stream",
     "text": [
      "this is my class3\n"
     ]
    }
   ],
   "source": [
    "obj2.test_class3()"
   ]
  },
  {
   "cell_type": "markdown",
   "id": "15ac338e-3d7e-4df3-a521-561a72769f28",
   "metadata": {},
   "source": [
    "5. Hybrid Inheritance "
   ]
  },
  {
   "cell_type": "code",
   "execution_count": 20,
   "id": "b22b29ea-4225-4d44-b9e8-3621b3b5f954",
   "metadata": {},
   "outputs": [],
   "source": [
    "class school:\n",
    "    def func1(self):\n",
    "        print(\"This function is in school.\")"
   ]
  },
  {
   "cell_type": "code",
   "execution_count": 21,
   "id": "f9036beb-1cd8-4b9e-b56b-cae9766c8761",
   "metadata": {},
   "outputs": [],
   "source": [
    "class student1(school):\n",
    "    def func2(self):\n",
    "        print(\"This function is in student 1. \")"
   ]
  },
  {
   "cell_type": "code",
   "execution_count": 22,
   "id": "72059105-1a7d-4bd8-b8ec-ffc30c2864d4",
   "metadata": {},
   "outputs": [],
   "source": [
    "class student2(school):\n",
    "    def func3(self):\n",
    "        print(\"This function is in student 2.\")"
   ]
  },
  {
   "cell_type": "code",
   "execution_count": 23,
   "id": "db33e9aa-3db7-40da-9569-9566d470fb8d",
   "metadata": {},
   "outputs": [],
   "source": [
    "class student3(student1, school):\n",
    "    def func4(self):\n",
    "        print(\"This function is in student 3.\")"
   ]
  },
  {
   "cell_type": "code",
   "execution_count": 24,
   "id": "d9ceed82-d79f-44bc-8ae6-9b60b7d31815",
   "metadata": {},
   "outputs": [],
   "source": [
    "obj = student3()"
   ]
  },
  {
   "cell_type": "code",
   "execution_count": 25,
   "id": "c9e22384-b7f5-40ad-9e0e-fd160b6422b5",
   "metadata": {},
   "outputs": [
    {
     "name": "stdout",
     "output_type": "stream",
     "text": [
      "This function is in school.\n"
     ]
    }
   ],
   "source": [
    "obj.func1()"
   ]
  },
  {
   "cell_type": "code",
   "execution_count": 26,
   "id": "4d0f40d5-58ff-4382-8b2f-c4c8481c11cd",
   "metadata": {},
   "outputs": [
    {
     "name": "stdout",
     "output_type": "stream",
     "text": [
      "This function is in student 1. \n"
     ]
    }
   ],
   "source": [
    "obj.func2()"
   ]
  },
  {
   "cell_type": "code",
   "execution_count": null,
   "id": "ab2814e6-76d8-4299-b06e-17cbde5b8fdd",
   "metadata": {},
   "outputs": [],
   "source": []
  }
 ],
 "metadata": {
  "kernelspec": {
   "display_name": "Python 3 (ipykernel)",
   "language": "python",
   "name": "python3"
  },
  "language_info": {
   "codemirror_mode": {
    "name": "ipython",
    "version": 3
   },
   "file_extension": ".py",
   "mimetype": "text/x-python",
   "name": "python",
   "nbconvert_exporter": "python",
   "pygments_lexer": "ipython3",
   "version": "3.10.8"
  }
 },
 "nbformat": 4,
 "nbformat_minor": 5
}
