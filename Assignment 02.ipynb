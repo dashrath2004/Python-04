{
 "cells": [
  {
   "cell_type": "markdown",
   "id": "41b3f6f7-f58b-4bbc-a469-08548a40e223",
   "metadata": {},
   "source": [
    "Q1. What is Abstraction in OOps? Explain with an example."
   ]
  },
  {
   "cell_type": "raw",
   "id": "ef1c015d-d3a7-49ac-88cf-fd80b0776cf1",
   "metadata": {},
   "source": [
    "Abstraction in python is defined as a process of handling complexity by hiding unnecessary information from the user. This is one of the core concepts of object-oriented programming (OOP) languages."
   ]
  },
  {
   "cell_type": "raw",
   "id": "64ba0655-e2b1-47a1-9420-205eaa0f9c2f",
   "metadata": {},
   "source": [
    "Example - Your car is a great example of abstraction. You can start a car by turning the key or      pressing the start button. You don't need to know how the engine is getting started, what all components your car has. The car internal implementation and complex logic is completely hidden from the user.         "
   ]
  },
  {
   "cell_type": "markdown",
   "id": "4f1d11f5-ca78-4720-bc96-133858740972",
   "metadata": {},
   "source": [
    "Q2. Differentiate between Abstraction and Encapsulation. Explain with an example."
   ]
  },
  {
   "cell_type": "raw",
   "id": "99197132-4227-4a3a-8cea-a4affb2a3fb4",
   "metadata": {},
   "source": [
    "Differentiate - Encapsulation is basically binding data members & member functions into a single                   unit called Class. Whereas Abstraction is basically to hide implementation                         complexity & provide ease of access to the users."
   ]
  },
  {
   "cell_type": "raw",
   "id": "6b4e8b45-667a-493f-88a1-32dbeef53031",
   "metadata": {},
   "source": [
    "Example -  Your car is a great example of abstraction. You can start a car by turning the key or      pressing the start button. You don't need to know how the engine is getting started, what all components your car has. The car internal implementation and complex logic is completely hidden from the user.  \n",
    "\n",
    "School bag is one of the most real examples of Encapsulation. School bag can keep our books, pens, etc."
   ]
  },
  {
   "cell_type": "markdown",
   "id": "5bcc94e8-a914-43dc-b0ef-fcdf1e3c5799",
   "metadata": {},
   "source": [
    "Q3. What is abc module in python? Why is it used?"
   ]
  },
  {
   "cell_type": "raw",
   "id": "0cf8fb92-8c1e-4b75-bce3-1a1deb9ca1df",
   "metadata": {},
   "source": [
    "The 'abc' module in the Python library provides the infrastructure for defining custom abstract base classes. Abstract class cannot be instantiated in python. An Abstract method can be call by its subclasses. 'abc' works by marking methods of the base class as abstract. This is done by @absttractmethod decorator."
   ]
  },
  {
   "cell_type": "markdown",
   "id": "49c42aca-c760-4de8-94ac-afcf8b0df311",
   "metadata": {},
   "source": [
    "Q4. How can we achieve data abstraction?"
   ]
  },
  {
   "cell_type": "raw",
   "id": "d66e3856-40f0-4947-a085-6d7ca6416e4c",
   "metadata": {},
   "source": [
    "Data Abstraction in Python can be achieved through creating abstract classes and inheriting them later. "
   ]
  },
  {
   "cell_type": "markdown",
   "id": "25b6da93-0f27-4189-8f14-4f01192da32a",
   "metadata": {},
   "source": [
    "Q5. Can we create an instance of an abstract class? Explain your answer."
   ]
  },
  {
   "cell_type": "raw",
   "id": "822e0683-1b52-49d9-8fa0-7ba79f7f0149",
   "metadata": {},
   "source": [
    "Abstract classes are not complete, as they may have some methods that are not defined. So we cannot create an instance or object of an abstract class in Python."
   ]
  }
 ],
 "metadata": {
  "kernelspec": {
   "display_name": "Python 3 (ipykernel)",
   "language": "python",
   "name": "python3"
  },
  "language_info": {
   "codemirror_mode": {
    "name": "ipython",
    "version": 3
   },
   "file_extension": ".py",
   "mimetype": "text/x-python",
   "name": "python",
   "nbconvert_exporter": "python",
   "pygments_lexer": "ipython3",
   "version": "3.10.8"
  }
 },
 "nbformat": 4,
 "nbformat_minor": 5
}
