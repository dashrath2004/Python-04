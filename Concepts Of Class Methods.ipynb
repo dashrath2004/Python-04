{
 "cells": [
  {
   "cell_type": "code",
   "execution_count": 6,
   "id": "10962db1-1261-4def-8c28-b0c54b85b242",
   "metadata": {},
   "outputs": [],
   "source": [
    "class dashrath:\n",
    "    \n",
    "    def __init__(self, name, email):\n",
    "        \n",
    "        self.name = name\n",
    "        self.email = email\n",
    "        \n",
    "    def student_details(self):\n",
    "        print(self.name , self.email)"
   ]
  },
  {
   "cell_type": "code",
   "execution_count": 7,
   "id": "cdffbabb-95c4-48fe-aeff-d1bc38ee455e",
   "metadata": {},
   "outputs": [],
   "source": [
    "ds = dashrath(\"monu\" , \"monu@gmail.com\")"
   ]
  },
  {
   "cell_type": "code",
   "execution_count": 8,
   "id": "1e0f7b1e-3305-489d-ae0b-7a5b8cc9e578",
   "metadata": {},
   "outputs": [
    {
     "data": {
      "text/plain": [
       "'monu'"
      ]
     },
     "execution_count": 8,
     "metadata": {},
     "output_type": "execute_result"
    }
   ],
   "source": [
    "ds.name"
   ]
  },
  {
   "cell_type": "code",
   "execution_count": 9,
   "id": "8ffb7f1c-63ae-45c5-b8c7-8363804b3b5f",
   "metadata": {},
   "outputs": [
    {
     "data": {
      "text/plain": [
       "'monu@gmail.com'"
      ]
     },
     "execution_count": 9,
     "metadata": {},
     "output_type": "execute_result"
    }
   ],
   "source": [
    "ds.email"
   ]
  },
  {
   "cell_type": "code",
   "execution_count": 11,
   "id": "9ab8ec59-84b9-4fde-88eb-1c3eaa61f18d",
   "metadata": {},
   "outputs": [
    {
     "name": "stdout",
     "output_type": "stream",
     "text": [
      "monu monu@gmail.com\n"
     ]
    }
   ],
   "source": [
    "ds.student_details()"
   ]
  },
  {
   "cell_type": "code",
   "execution_count": 13,
   "id": "9360bf86-0afc-4a39-b9f8-64a627d02746",
   "metadata": {},
   "outputs": [],
   "source": [
    "class dashrath1 : \n",
    "    \n",
    "    def __init__(self , name , email) :\n",
    "        \n",
    "        self.name = name \n",
    "        self.email = email\n",
    "    \n",
    "    @classmethod\n",
    "    def details(cls ,name, email ):\n",
    "        return cls(name , email)\n",
    "        \n",
    "    def students_details(self):\n",
    "        print(self.name , self.email)"
   ]
  },
  {
   "cell_type": "code",
   "execution_count": 14,
   "id": "80a561a4-983f-46cf-af76-baf536186ce1",
   "metadata": {},
   "outputs": [],
   "source": [
    "ds1 = dashrath1.details(\"monu\" , \"monu@gmail\")"
   ]
  },
  {
   "cell_type": "code",
   "execution_count": 15,
   "id": "e6ded5d3-cba7-4813-a126-7bf4eb5f5b52",
   "metadata": {},
   "outputs": [
    {
     "data": {
      "text/plain": [
       "'monu'"
      ]
     },
     "execution_count": 15,
     "metadata": {},
     "output_type": "execute_result"
    }
   ],
   "source": [
    "ds1.name"
   ]
  },
  {
   "cell_type": "code",
   "execution_count": 16,
   "id": "c7541af8-1d83-4452-aefc-22628a277508",
   "metadata": {},
   "outputs": [
    {
     "data": {
      "text/plain": [
       "'monu@gmail'"
      ]
     },
     "execution_count": 16,
     "metadata": {},
     "output_type": "execute_result"
    }
   ],
   "source": [
    "ds1.email"
   ]
  },
  {
   "cell_type": "code",
   "execution_count": 17,
   "id": "b38d0658-1bce-40b0-83fc-1ca9b3cb3bf0",
   "metadata": {},
   "outputs": [
    {
     "name": "stdout",
     "output_type": "stream",
     "text": [
      "monu monu@gmail\n"
     ]
    }
   ],
   "source": [
    "ds1.students_details()"
   ]
  },
  {
   "cell_type": "code",
   "execution_count": 1,
   "id": "1e386d44-9325-48f5-88a3-9858040252cf",
   "metadata": {},
   "outputs": [],
   "source": [
    "class dashrath2 : \n",
    "    \n",
    "    mobile_num = 912342424\n",
    "    \n",
    "    def __init__(self , name , email) :\n",
    "        \n",
    "        self.name = name \n",
    "        self.email = email\n",
    "    \n",
    "    @classmethod\n",
    "    def change_number(cls, mobile):\n",
    "        dashrath2.mobile_num = mobile\n",
    "    \n",
    "    @classmethod\n",
    "    def details(cls ,name, email ):\n",
    "        return cls(name , email)\n",
    "        \n",
    "    def students_details(self):\n",
    "        print(self.name , self.email,dashrath2.mobile_num)"
   ]
  },
  {
   "cell_type": "code",
   "execution_count": 2,
   "id": "5342a36d-2e9c-4da3-8700-d9b8d821941b",
   "metadata": {},
   "outputs": [
    {
     "data": {
      "text/plain": [
       "912342424"
      ]
     },
     "execution_count": 2,
     "metadata": {},
     "output_type": "execute_result"
    }
   ],
   "source": [
    "dashrath2.mobile_num"
   ]
  },
  {
   "cell_type": "code",
   "execution_count": 3,
   "id": "94b8be5a-0877-429f-86fd-f6cd83100eb8",
   "metadata": {},
   "outputs": [],
   "source": [
    "dashrath2.change_number(7615227228)"
   ]
  },
  {
   "cell_type": "code",
   "execution_count": 4,
   "id": "354a5d45-7269-46aa-b4b9-573133f37796",
   "metadata": {},
   "outputs": [
    {
     "data": {
      "text/plain": [
       "7615227228"
      ]
     },
     "execution_count": 4,
     "metadata": {},
     "output_type": "execute_result"
    }
   ],
   "source": [
    "dashrath2.mobile_num"
   ]
  },
  {
   "cell_type": "code",
   "execution_count": 5,
   "id": "8d468ab0-f1fd-467d-8af9-1dab9ba756a2",
   "metadata": {},
   "outputs": [],
   "source": [
    "ds = dashrath2.students_details(\"monu\" , \"monu@gmail.com\")"
   ]
  },
  {
   "cell_type": "code",
   "execution_count": 7,
   "id": "f588a72c-59f9-4d11-a421-0829734ec285",
   "metadata": {},
   "outputs": [
    {
     "name": "stdout",
     "output_type": "stream",
     "text": [
      "monu monu@gmail.com 7615227228\n"
     ]
    }
   ],
   "source": [
    "ds.students_details()"
   ]
  },
  {
   "cell_type": "code",
   "execution_count": 12,
   "id": "13a9be45-5e4d-4f23-810c-b6b19eab6a37",
   "metadata": {},
   "outputs": [],
   "source": [
    "class dashrath3 : \n",
    "    \n",
    "    mobile_num = 912342424\n",
    "    \n",
    "    def __init__(self , name , email) :\n",
    "        \n",
    "        self.name = name \n",
    "        self.email = email\n",
    "    \n",
    "    @classmethod\n",
    "    def change_number(cls, mobile):\n",
    "        pwskills2.mobile_num = mobile\n",
    "    \n",
    "    @classmethod\n",
    "    def details(cls ,name, email ):\n",
    "        return cls(name , email)\n",
    "        \n",
    "    def students_details(self):\n",
    "        print(self.name , self.email,dashrath3.mobile_num)"
   ]
  },
  {
   "cell_type": "code",
   "execution_count": 13,
   "id": "a37c83d5-d75d-49fe-95b8-3021c15d7c06",
   "metadata": {},
   "outputs": [],
   "source": [
    "def course_details(cls, course_name):\n",
    "    print(\"course name is\" , course_name) "
   ]
  },
  {
   "cell_type": "code",
   "execution_count": 14,
   "id": "4163fe2e-3aac-4bab-af3f-b44be2fb01fe",
   "metadata": {},
   "outputs": [],
   "source": [
    "dashrath3.course_details = classmethod (course_details)"
   ]
  },
  {
   "cell_type": "code",
   "execution_count": 15,
   "id": "cba191a1-2746-45e2-bca8-1c38f2f734ce",
   "metadata": {},
   "outputs": [
    {
     "name": "stdout",
     "output_type": "stream",
     "text": [
      "course name is data science masters\n"
     ]
    }
   ],
   "source": [
    "dashrath3.course_details(\"data science masters\")"
   ]
  },
  {
   "cell_type": "code",
   "execution_count": 16,
   "id": "47d35024-b690-44cc-aefc-6f5c6fd9fdde",
   "metadata": {},
   "outputs": [],
   "source": [
    "def mentor(cls , list_of_mentor) : \n",
    "    print(list_of_mentor)"
   ]
  },
  {
   "cell_type": "code",
   "execution_count": 17,
   "id": "7a70c4a7-2582-4cda-ab3f-9c0bd5278228",
   "metadata": {},
   "outputs": [],
   "source": [
    "dashrath3.mentor = classmethod(mentor)"
   ]
  },
  {
   "cell_type": "code",
   "execution_count": 18,
   "id": "3765ff11-e738-454f-882f-a3cfcf9b0afb",
   "metadata": {},
   "outputs": [
    {
     "name": "stdout",
     "output_type": "stream",
     "text": [
      "['sudhanshu ', 'krish naik']\n"
     ]
    }
   ],
   "source": [
    "dashrath3.mentor([\"sudhanshu \" , \"krish naik\"])"
   ]
  },
  {
   "cell_type": "markdown",
   "id": "24b9e31c-a598-4d61-8f49-fce5fde30c12",
   "metadata": {},
   "source": [
    "The Mathod Of Delet The Function"
   ]
  },
  {
   "cell_type": "code",
   "execution_count": 19,
   "id": "6b89becd-5d42-45cf-b9e6-e6f379f00504",
   "metadata": {},
   "outputs": [],
   "source": [
    "class dashrath4 : \n",
    "    \n",
    "    mobile_num = 912342424\n",
    "    \n",
    "    def __init__(self , name , email) :\n",
    "        \n",
    "        self.name = name \n",
    "        self.email = email\n",
    "    \n",
    "    @classmethod\n",
    "    def change_number(cls, mobile):\n",
    "        pwskills2.mobile_num = mobile\n",
    "    \n",
    "    @classmethod\n",
    "    def details(cls ,name, email ):\n",
    "        return cls(name , email)\n",
    "        \n",
    "    def students_details(self):\n",
    "        print(self.name , self.email,dashrath4.mobile_num)"
   ]
  },
  {
   "cell_type": "code",
   "execution_count": 20,
   "id": "bef38b88-53b2-4050-ac3b-834d728c1602",
   "metadata": {},
   "outputs": [],
   "source": [
    "del dashrath4.change_number"
   ]
  },
  {
   "cell_type": "code",
   "execution_count": 22,
   "id": "2f668d63-16ff-472c-88e1-858774633ce7",
   "metadata": {},
   "outputs": [
    {
     "ename": "AttributeError",
     "evalue": "type object 'dashrath4' has no attribute 'change_number'",
     "output_type": "error",
     "traceback": [
      "\u001b[0;31m---------------------------------------------------------------------------\u001b[0m",
      "\u001b[0;31mAttributeError\u001b[0m                            Traceback (most recent call last)",
      "Cell \u001b[0;32mIn[22], line 1\u001b[0m\n\u001b[0;32m----> 1\u001b[0m \u001b[43mdashrath4\u001b[49m\u001b[38;5;241;43m.\u001b[39;49m\u001b[43mchange_number\u001b[49m(\u001b[38;5;241m57859657656\u001b[39m)\n",
      "\u001b[0;31mAttributeError\u001b[0m: type object 'dashrath4' has no attribute 'change_number'"
     ]
    }
   ],
   "source": [
    "dashrath4.change_number(57859657656)"
   ]
  },
  {
   "cell_type": "code",
   "execution_count": 23,
   "id": "69728f0b-a7a6-4683-b197-01c0cd5872c6",
   "metadata": {},
   "outputs": [],
   "source": [
    "delattr(dashrath4 , \"details\")"
   ]
  },
  {
   "cell_type": "code",
   "execution_count": 24,
   "id": "540de698-8f6e-43d5-9020-bc70e442caa6",
   "metadata": {},
   "outputs": [
    {
     "ename": "AttributeError",
     "evalue": "type object 'dashrath4' has no attribute 'details'",
     "output_type": "error",
     "traceback": [
      "\u001b[0;31m---------------------------------------------------------------------------\u001b[0m",
      "\u001b[0;31mAttributeError\u001b[0m                            Traceback (most recent call last)",
      "Cell \u001b[0;32mIn[24], line 1\u001b[0m\n\u001b[0;32m----> 1\u001b[0m \u001b[43mdashrath4\u001b[49m\u001b[38;5;241;43m.\u001b[39;49m\u001b[43mdetails\u001b[49m(\u001b[38;5;124m\"\u001b[39m\u001b[38;5;124mmonu\u001b[39m\u001b[38;5;124m\"\u001b[39m , \u001b[38;5;124m\"\u001b[39m\u001b[38;5;124mmonu@gmail.com\u001b[39m\u001b[38;5;124m\"\u001b[39m)\n",
      "\u001b[0;31mAttributeError\u001b[0m: type object 'dashrath4' has no attribute 'details'"
     ]
    }
   ],
   "source": [
    "dashrath4.details(\"monu\" , \"monu@gmail.com\")"
   ]
  },
  {
   "cell_type": "code",
   "execution_count": 30,
   "id": "5b7905ca-aec6-43d1-aa3d-485b209e4194",
   "metadata": {},
   "outputs": [],
   "source": [
    "delattr(dashrath4 , \"students_details\")"
   ]
  },
  {
   "cell_type": "code",
   "execution_count": 33,
   "id": "5c40bb90-2882-41a4-bd13-5f4b721c8cd3",
   "metadata": {},
   "outputs": [],
   "source": [
    "delattr(dashrath4 , \"mobile_num\")"
   ]
  },
  {
   "cell_type": "code",
   "execution_count": null,
   "id": "d4e236f7-7cea-4dbe-82b6-850ba9d80f3d",
   "metadata": {},
   "outputs": [],
   "source": []
  }
 ],
 "metadata": {
  "kernelspec": {
   "display_name": "Python 3 (ipykernel)",
   "language": "python",
   "name": "python3"
  },
  "language_info": {
   "codemirror_mode": {
    "name": "ipython",
    "version": 3
   },
   "file_extension": ".py",
   "mimetype": "text/x-python",
   "name": "python",
   "nbconvert_exporter": "python",
   "pygments_lexer": "ipython3",
   "version": "3.10.8"
  }
 },
 "nbformat": 4,
 "nbformat_minor": 5
}
