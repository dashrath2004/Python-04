{
 "cells": [
  {
   "cell_type": "code",
   "execution_count": 1,
   "id": "c5594564-5413-43cc-a32d-04c3fd78072f",
   "metadata": {},
   "outputs": [],
   "source": [
    "def test():\n",
    "    print(\"this is start for me\")\n",
    "    print(\"this is start for test\")\n",
    "    print(7+5)\n",
    "    print(\"this is end for me\")"
   ]
  },
  {
   "cell_type": "code",
   "execution_count": 2,
   "id": "01590584-4814-4e27-a5af-6886215a0430",
   "metadata": {},
   "outputs": [
    {
     "name": "stdout",
     "output_type": "stream",
     "text": [
      "this is start for me\n",
      "this is start for test\n",
      "12\n",
      "this is end for me\n"
     ]
    }
   ],
   "source": [
    "test()"
   ]
  },
  {
   "cell_type": "code",
   "execution_count": 3,
   "id": "20d879be-a3fd-4cea-a53d-86fec0194044",
   "metadata": {},
   "outputs": [],
   "source": [
    "def deco(singh):\n",
    "    def inner_deco():\n",
    "        print(\"this is the start of my fun\")\n",
    "        singh()\n",
    "        print(\"this is the end of my fun\")\n",
    "    return inner_deco"
   ]
  },
  {
   "cell_type": "code",
   "execution_count": 4,
   "id": "b294901f-f13e-406f-b2b8-11f744ba0131",
   "metadata": {},
   "outputs": [],
   "source": [
    "@deco\n",
    "def test1():\n",
    "    print(4+3)"
   ]
  },
  {
   "cell_type": "code",
   "execution_count": 5,
   "id": "b9a0c0fe-c6ab-4c2d-afb7-cf350dfefc13",
   "metadata": {},
   "outputs": [
    {
     "name": "stdout",
     "output_type": "stream",
     "text": [
      "this is the start of my fun\n",
      "7\n",
      "this is the end of my fun\n"
     ]
    }
   ],
   "source": [
    "test1()"
   ]
  },
  {
   "cell_type": "code",
   "execution_count": 6,
   "id": "1aa1d95b-7951-4884-acdd-6ae7a4f0f0f0",
   "metadata": {},
   "outputs": [],
   "source": [
    "import time \n",
    "\n",
    "def timer_test(func):\n",
    "    def timer_test_inner ():\n",
    "        start = time.time()\n",
    "        func()\n",
    "        end = time.time()\n",
    "        print(end -start)\n",
    "    return timer_test_inner\n",
    "        "
   ]
  },
  {
   "cell_type": "code",
   "execution_count": 7,
   "id": "2534e5cf-ff93-4540-b985-c3681753d2ff",
   "metadata": {},
   "outputs": [],
   "source": [
    "def test2():\n",
    "    print(50+20)"
   ]
  },
  {
   "cell_type": "code",
   "execution_count": 8,
   "id": "2677a21e-af5e-43ed-b2e7-4ef8c20d92d9",
   "metadata": {},
   "outputs": [
    {
     "name": "stdout",
     "output_type": "stream",
     "text": [
      "70\n"
     ]
    }
   ],
   "source": [
    "test2()\n"
   ]
  },
  {
   "cell_type": "code",
   "execution_count": 9,
   "id": "0e4b2d2a-a64f-4163-ad81-214a95f2a6bd",
   "metadata": {},
   "outputs": [],
   "source": [
    "@timer_test\n",
    "def test2():\n",
    "    print(50+20)\n"
   ]
  },
  {
   "cell_type": "code",
   "execution_count": 10,
   "id": "71be6cc9-5627-4cc1-812c-c0e2b1067f81",
   "metadata": {},
   "outputs": [
    {
     "name": "stdout",
     "output_type": "stream",
     "text": [
      "70\n",
      "4.76837158203125e-05\n"
     ]
    }
   ],
   "source": [
    "test2()"
   ]
  },
  {
   "cell_type": "code",
   "execution_count": 15,
   "id": "3f94a18d-1d48-4519-84e8-480620c333a0",
   "metadata": {},
   "outputs": [],
   "source": [
    "@timer_test\n",
    "def test():\n",
    "    for i in range(400000):\n",
    "        pass"
   ]
  },
  {
   "cell_type": "code",
   "execution_count": 16,
   "id": "80681017-ad3c-48f2-89f0-8717eb76e1ac",
   "metadata": {},
   "outputs": [
    {
     "name": "stdout",
     "output_type": "stream",
     "text": [
      "0.008297920227050781\n"
     ]
    }
   ],
   "source": [
    "test()"
   ]
  },
  {
   "cell_type": "code",
   "execution_count": null,
   "id": "22c7cc07-81c1-4675-9dee-baba85f51e13",
   "metadata": {},
   "outputs": [],
   "source": []
  }
 ],
 "metadata": {
  "kernelspec": {
   "display_name": "Python 3 (ipykernel)",
   "language": "python",
   "name": "python3"
  },
  "language_info": {
   "codemirror_mode": {
    "name": "ipython",
    "version": 3
   },
   "file_extension": ".py",
   "mimetype": "text/x-python",
   "name": "python",
   "nbconvert_exporter": "python",
   "pygments_lexer": "ipython3",
   "version": "3.10.8"
  }
 },
 "nbformat": 4,
 "nbformat_minor": 5
}
