{
 "cells": [
  {
   "cell_type": "code",
   "execution_count": 15,
   "id": "3498112f-133b-4aa1-a223-ac74756153d9",
   "metadata": {},
   "outputs": [],
   "source": [
    "class car :\n",
    "    def __init__(self, year, make, model, speed) :\n",
    "        \n",
    "        self.__year = year\n",
    "        self.__make = make\n",
    "        self.__model = model\n",
    "        self.__speed = 0\n",
    "        \n",
    "    def set_speed(self,speed) : \n",
    "        self.__speed = 0 if speed < 0 else speed\n",
    "        \n",
    "    def get_speed(self)  : \n",
    "        return self.__speed\n",
    "    "
   ]
  },
  {
   "cell_type": "code",
   "execution_count": 16,
   "id": "bd87aea2-1ec8-45f6-afb8-b0258cef0748",
   "metadata": {},
   "outputs": [],
   "source": [
    "c = car(2021, \"mahindra\", \"xuv7oo\", 20)"
   ]
  },
  {
   "cell_type": "code",
   "execution_count": 17,
   "id": "a25babf1-0773-43c3-b27e-4832a11088f9",
   "metadata": {},
   "outputs": [
    {
     "data": {
      "text/plain": [
       "2021"
      ]
     },
     "execution_count": 17,
     "metadata": {},
     "output_type": "execute_result"
    }
   ],
   "source": [
    "c._car__year"
   ]
  },
  {
   "cell_type": "code",
   "execution_count": 20,
   "id": "45548729-2bf1-4f93-934e-8935db9349ab",
   "metadata": {},
   "outputs": [],
   "source": [
    "c.set_speed(-4656)"
   ]
  },
  {
   "cell_type": "code",
   "execution_count": 22,
   "id": "c26fa724-70e3-4d2c-a056-bf159fdaf1a1",
   "metadata": {},
   "outputs": [
    {
     "data": {
      "text/plain": [
       "0"
      ]
     },
     "execution_count": 22,
     "metadata": {},
     "output_type": "execute_result"
    }
   ],
   "source": [
    "c.get_speed()"
   ]
  },
  {
   "cell_type": "code",
   "execution_count": 23,
   "id": "4fb2001d-4d9e-4820-8cfe-a66b0cb9f667",
   "metadata": {},
   "outputs": [],
   "source": [
    "c.set_speed(250)"
   ]
  },
  {
   "cell_type": "code",
   "execution_count": 24,
   "id": "2ffc73be-2753-4b31-80e7-c24aeb13e70c",
   "metadata": {},
   "outputs": [
    {
     "data": {
      "text/plain": [
       "250"
      ]
     },
     "execution_count": 24,
     "metadata": {},
     "output_type": "execute_result"
    }
   ],
   "source": [
    "c.get_speed()"
   ]
  },
  {
   "cell_type": "code",
   "execution_count": 31,
   "id": "0d40a02e-a978-49a4-a8fe-414927631e69",
   "metadata": {},
   "outputs": [],
   "source": [
    "class bank_account : \n",
    "    def __init__(self , balance) : \n",
    "        self.__balanace = balance \n",
    "        \n",
    "    def deposit(self , amount) : \n",
    "        self.__balanace = self.__balanace + amount\n",
    "        \n",
    "    def withdraw(self ,amount) : \n",
    "        if self.__balanace >= amount :\n",
    "            self.__balanace = self.__balanace - amount\n",
    "            return True\n",
    "        else : \n",
    "            return False\n",
    "    \n",
    "    def get_banalnce(self):\n",
    "        return self.__balanace\n",
    "                  "
   ]
  },
  {
   "cell_type": "code",
   "execution_count": 32,
   "id": "db157f2e-f644-47b0-9b8a-672fac99a3dc",
   "metadata": {},
   "outputs": [],
   "source": [
    "monu = bank_account(1000)"
   ]
  },
  {
   "cell_type": "code",
   "execution_count": 33,
   "id": "9cec57d9-4f99-4981-a362-e0a978f360ff",
   "metadata": {},
   "outputs": [
    {
     "data": {
      "text/plain": [
       "1000"
      ]
     },
     "execution_count": 33,
     "metadata": {},
     "output_type": "execute_result"
    }
   ],
   "source": [
    "monu.get_banalnce()"
   ]
  },
  {
   "cell_type": "code",
   "execution_count": 34,
   "id": "c174d3c9-6787-41f6-a2ad-5cd0f81bc6a0",
   "metadata": {},
   "outputs": [],
   "source": [
    "monu.deposit(5000)"
   ]
  },
  {
   "cell_type": "code",
   "execution_count": 35,
   "id": "125082fb-9229-43c7-a9fe-3ccfdced4af0",
   "metadata": {},
   "outputs": [
    {
     "data": {
      "text/plain": [
       "6000"
      ]
     },
     "execution_count": 35,
     "metadata": {},
     "output_type": "execute_result"
    }
   ],
   "source": [
    "monu.get_banalnce()"
   ]
  },
  {
   "cell_type": "code",
   "execution_count": 36,
   "id": "26dc8267-6367-46f0-a165-798f0604d11b",
   "metadata": {},
   "outputs": [
    {
     "data": {
      "text/plain": [
       "True"
      ]
     },
     "execution_count": 36,
     "metadata": {},
     "output_type": "execute_result"
    }
   ],
   "source": [
    "monu.withdraw(2050)"
   ]
  },
  {
   "cell_type": "code",
   "execution_count": 37,
   "id": "1ac28447-975a-4fa6-a3b5-319c9a4ea372",
   "metadata": {},
   "outputs": [
    {
     "data": {
      "text/plain": [
       "3950"
      ]
     },
     "execution_count": 37,
     "metadata": {},
     "output_type": "execute_result"
    }
   ],
   "source": [
    "monu.get_banalnce()"
   ]
  },
  {
   "cell_type": "code",
   "execution_count": null,
   "id": "6871939b-81b5-4544-afaa-308c3b4c0fac",
   "metadata": {},
   "outputs": [],
   "source": [
    "monu.withdraw("
   ]
  }
 ],
 "metadata": {
  "kernelspec": {
   "display_name": "Python 3 (ipykernel)",
   "language": "python",
   "name": "python3"
  },
  "language_info": {
   "codemirror_mode": {
    "name": "ipython",
    "version": 3
   },
   "file_extension": ".py",
   "mimetype": "text/x-python",
   "name": "python",
   "nbconvert_exporter": "python",
   "pygments_lexer": "ipython3",
   "version": "3.10.8"
  }
 },
 "nbformat": 4,
 "nbformat_minor": 5
}
