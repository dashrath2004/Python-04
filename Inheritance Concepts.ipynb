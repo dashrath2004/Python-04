{
 "cells": [
  {
   "cell_type": "markdown",
   "id": "efaf344c-c0aa-4650-8400-9df12b69c0d1",
   "metadata": {},
   "source": [
    "Single Inheritance :"
   ]
  },
  {
   "cell_type": "code",
   "execution_count": 1,
   "id": "60fda722-d25f-4986-b6d4-e208b6ad9a70",
   "metadata": {},
   "outputs": [],
   "source": [
    "class parent:\n",
    "    \n",
    "    def test_parent(self):\n",
    "        return \"this is my parent\""
   ]
  },
  {
   "cell_type": "code",
   "execution_count": 2,
   "id": "1a739e66-7716-4a7b-8119-e46d0d056d26",
   "metadata": {},
   "outputs": [],
   "source": [
    "class child(parent):\n",
    "    pass"
   ]
  },
  {
   "cell_type": "code",
   "execution_count": 3,
   "id": "8d79e892-7d0a-4bd7-b828-4f222b033acb",
   "metadata": {},
   "outputs": [],
   "source": [
    "child_obj = child()"
   ]
  },
  {
   "cell_type": "code",
   "execution_count": 4,
   "id": "52c0eb27-8a4b-4a54-a217-336666a8769b",
   "metadata": {},
   "outputs": [
    {
     "data": {
      "text/plain": [
       "'this is my parent'"
      ]
     },
     "execution_count": 4,
     "metadata": {},
     "output_type": "execute_result"
    }
   ],
   "source": [
    "child_obj.test_parent()"
   ]
  },
  {
   "cell_type": "markdown",
   "id": "850e605e-05e3-4546-ba33-ca54fb2a3e8c",
   "metadata": {},
   "source": [
    "Multilevel Inheritance :"
   ]
  },
  {
   "cell_type": "code",
   "execution_count": 5,
   "id": "8085fbfb-ab85-492f-b318-21be883f55ca",
   "metadata": {},
   "outputs": [],
   "source": [
    "class class1:\n",
    "    \n",
    "    def test_class1(self):\n",
    "        print(\"this is my class1\")"
   ]
  },
  {
   "cell_type": "code",
   "execution_count": 7,
   "id": "ba14ad80-ebc7-4eb9-b255-9ff3c2dd6fba",
   "metadata": {},
   "outputs": [],
   "source": [
    "class class2(class1):\n",
    "    \n",
    "    def test_class2(self):\n",
    "        print(\"this is my class2\")"
   ]
  },
  {
   "cell_type": "code",
   "execution_count": 8,
   "id": "32a46180-b23f-4e8d-b16c-37a2054d2213",
   "metadata": {},
   "outputs": [],
   "source": [
    "class class3(class2):\n",
    "    \n",
    "    def test_class3(self):\n",
    "        print(\"this is my class3\")"
   ]
  },
  {
   "cell_type": "code",
   "execution_count": 9,
   "id": "8034577e-9508-4e6a-841d-ba2c4fda0dea",
   "metadata": {},
   "outputs": [],
   "source": [
    "obj_class3 = class3()"
   ]
  },
  {
   "cell_type": "code",
   "execution_count": 11,
   "id": "d2c6eb02-021b-4d22-94dc-d06f16293844",
   "metadata": {},
   "outputs": [
    {
     "name": "stdout",
     "output_type": "stream",
     "text": [
      "this is my class1\n"
     ]
    }
   ],
   "source": [
    "obj_class3.test_class1()"
   ]
  },
  {
   "cell_type": "code",
   "execution_count": 12,
   "id": "530e0edf-2483-4e5f-97ad-a39367ae5cf1",
   "metadata": {},
   "outputs": [
    {
     "name": "stdout",
     "output_type": "stream",
     "text": [
      "this is my class2\n"
     ]
    }
   ],
   "source": [
    "obj_class3.test_class2()"
   ]
  },
  {
   "cell_type": "code",
   "execution_count": 13,
   "id": "627847b0-28d2-4063-8531-000559e9d07f",
   "metadata": {},
   "outputs": [
    {
     "name": "stdout",
     "output_type": "stream",
     "text": [
      "this is my class3\n"
     ]
    }
   ],
   "source": [
    "obj_class3.test_class3()"
   ]
  },
  {
   "cell_type": "markdown",
   "id": "23e30d85-9b48-4052-a3c5-6586a8ee0f59",
   "metadata": {},
   "source": [
    "Multiple Inheritance :"
   ]
  },
  {
   "cell_type": "code",
   "execution_count": 14,
   "id": "9e331eba-7636-4769-ab37-0ae296adfc51",
   "metadata": {},
   "outputs": [],
   "source": [
    "class class1:\n",
    "    def test_class1(self) : \n",
    "        print(\"this is my class 1\" )"
   ]
  },
  {
   "cell_type": "code",
   "execution_count": 16,
   "id": "ef558172-9ff7-4300-97bc-d199492b6432",
   "metadata": {},
   "outputs": [],
   "source": [
    "class class2:\n",
    "    def test_class2(self) : \n",
    "        print(\"this is my class 2\" )"
   ]
  },
  {
   "cell_type": "code",
   "execution_count": 17,
   "id": "aee55f55-3c38-4850-b0c7-47ff56419dda",
   "metadata": {},
   "outputs": [],
   "source": [
    "class class3(class1 , class2):\n",
    "    pass"
   ]
  },
  {
   "cell_type": "code",
   "execution_count": 18,
   "id": "042c6a04-9bd7-4958-b9f1-4c7bacbf6906",
   "metadata": {},
   "outputs": [],
   "source": [
    "obj_class3 = class3()"
   ]
  },
  {
   "cell_type": "code",
   "execution_count": 19,
   "id": "0e4fda73-0fde-44d7-a149-ce6ef71556f3",
   "metadata": {},
   "outputs": [
    {
     "name": "stdout",
     "output_type": "stream",
     "text": [
      "this is my class 1\n"
     ]
    }
   ],
   "source": [
    "obj_class3.test_class1()"
   ]
  },
  {
   "cell_type": "code",
   "execution_count": 20,
   "id": "b1d44373-0e1f-4c19-be29-5ccc40e5969c",
   "metadata": {},
   "outputs": [
    {
     "name": "stdout",
     "output_type": "stream",
     "text": [
      "this is my class 2\n"
     ]
    }
   ],
   "source": [
    "obj_class3.test_class2()"
   ]
  },
  {
   "cell_type": "markdown",
   "id": "094a091d-0eb0-45f5-9f12-3f186b5e193c",
   "metadata": {},
   "source": [
    "Hierarchical Inheritance :"
   ]
  },
  {
   "cell_type": "code",
   "execution_count": 1,
   "id": "31a256ff-80a6-4a4f-bc8d-759793738acf",
   "metadata": {},
   "outputs": [],
   "source": [
    "class class1:\n",
    "    \n",
    "    def test_class1(self):\n",
    "        print(\"this is my class1\")  "
   ]
  },
  {
   "cell_type": "code",
   "execution_count": 2,
   "id": "9d55e4f0-6249-478f-9dbf-dafdca640128",
   "metadata": {},
   "outputs": [],
   "source": [
    "class class2(class1):\n",
    "    \n",
    "    def test_class2(self):\n",
    "        print(\"this is my class2\")"
   ]
  },
  {
   "cell_type": "code",
   "execution_count": 3,
   "id": "3f0f8fd1-b30b-4989-8c5d-04a07d1ae0fa",
   "metadata": {},
   "outputs": [],
   "source": [
    "class class3(class1):\n",
    "    \n",
    "    def test_class3(self):\n",
    "        print(\"this is my class3\")"
   ]
  },
  {
   "cell_type": "code",
   "execution_count": 4,
   "id": "3c95c7df-f2e7-4d9c-821d-1800210bf3ff",
   "metadata": {},
   "outputs": [],
   "source": [
    "obj1 = class2()\n",
    "obj2 = class3()"
   ]
  },
  {
   "cell_type": "code",
   "execution_count": 5,
   "id": "14f49b26-61b5-4254-b0cc-d0bffc17e370",
   "metadata": {},
   "outputs": [
    {
     "name": "stdout",
     "output_type": "stream",
     "text": [
      "this is my class1\n"
     ]
    }
   ],
   "source": [
    "obj1.test_class1()"
   ]
  },
  {
   "cell_type": "code",
   "execution_count": 6,
   "id": "9bc81b09-b76d-4d5a-99ff-eec6f63ac0de",
   "metadata": {},
   "outputs": [
    {
     "name": "stdout",
     "output_type": "stream",
     "text": [
      "this is my class2\n"
     ]
    }
   ],
   "source": [
    "obj1.test_class2()"
   ]
  },
  {
   "cell_type": "code",
   "execution_count": 7,
   "id": "d0baff70-9b3b-4f1b-880e-8ea52182b22b",
   "metadata": {},
   "outputs": [
    {
     "ename": "AttributeError",
     "evalue": "'class2' object has no attribute 'test_class3'",
     "output_type": "error",
     "traceback": [
      "\u001b[0;31m---------------------------------------------------------------------------\u001b[0m",
      "\u001b[0;31mAttributeError\u001b[0m                            Traceback (most recent call last)",
      "Cell \u001b[0;32mIn[7], line 1\u001b[0m\n\u001b[0;32m----> 1\u001b[0m \u001b[43mobj1\u001b[49m\u001b[38;5;241;43m.\u001b[39;49m\u001b[43mtest_class3\u001b[49m()\n",
      "\u001b[0;31mAttributeError\u001b[0m: 'class2' object has no attribute 'test_class3'"
     ]
    }
   ],
   "source": [
    "obj1.test_class3()"
   ]
  },
  {
   "cell_type": "code",
   "execution_count": 8,
   "id": "a47d982a-4c28-4f57-84dc-b5d21d0040f3",
   "metadata": {},
   "outputs": [
    {
     "name": "stdout",
     "output_type": "stream",
     "text": [
      "this is my class1\n"
     ]
    }
   ],
   "source": [
    "obj2.test_class1()"
   ]
  },
  {
   "cell_type": "code",
   "execution_count": 9,
   "id": "40d605a5-9b3d-4c72-9b51-407a95a5c0fb",
   "metadata": {},
   "outputs": [
    {
     "ename": "AttributeError",
     "evalue": "'class3' object has no attribute 'test_class2'",
     "output_type": "error",
     "traceback": [
      "\u001b[0;31m---------------------------------------------------------------------------\u001b[0m",
      "\u001b[0;31mAttributeError\u001b[0m                            Traceback (most recent call last)",
      "Cell \u001b[0;32mIn[9], line 1\u001b[0m\n\u001b[0;32m----> 1\u001b[0m \u001b[43mobj2\u001b[49m\u001b[38;5;241;43m.\u001b[39;49m\u001b[43mtest_class2\u001b[49m()\n",
      "\u001b[0;31mAttributeError\u001b[0m: 'class3' object has no attribute 'test_class2'"
     ]
    }
   ],
   "source": [
    "obj2.test_class2()"
   ]
  },
  {
   "cell_type": "code",
   "execution_count": 10,
   "id": "b4c9298d-369f-4091-998b-09f92396afb8",
   "metadata": {},
   "outputs": [
    {
     "name": "stdout",
     "output_type": "stream",
     "text": [
      "this is my class3\n"
     ]
    }
   ],
   "source": [
    "obj2.test_class3()"
   ]
  },
  {
   "cell_type": "markdown",
   "id": "ecbe4ddd-a5fb-46d6-858e-47305be44887",
   "metadata": {},
   "source": [
    "Hybrid Inheritance :"
   ]
  },
  {
   "cell_type": "code",
   "execution_count": 11,
   "id": "ab76f321-dffb-4fa2-b14e-7c6749dc471e",
   "metadata": {},
   "outputs": [],
   "source": [
    "class school:\n",
    "    def func1(self):\n",
    "        print(\"This function is in school.\")"
   ]
  },
  {
   "cell_type": "code",
   "execution_count": 12,
   "id": "c6932013-7231-4aac-8ccd-fbc1dbfa89e2",
   "metadata": {},
   "outputs": [],
   "source": [
    "class student1(school):\n",
    "    def func2(self):\n",
    "        print(\"This function is in student 1. \")"
   ]
  },
  {
   "cell_type": "code",
   "execution_count": 13,
   "id": "b010d875-a518-4555-9919-6c4bd99f8212",
   "metadata": {},
   "outputs": [],
   "source": [
    "class student2(school):\n",
    "    def func3(self):\n",
    "        print(\"This function is in student 2.\")"
   ]
  },
  {
   "cell_type": "code",
   "execution_count": 14,
   "id": "10b56d8c-7bb7-4eee-82b9-8d591592d012",
   "metadata": {},
   "outputs": [],
   "source": [
    "class student3(student1, school):\n",
    "    def func4(self):\n",
    "        print(\"This function is in student 3.\")"
   ]
  },
  {
   "cell_type": "code",
   "execution_count": 15,
   "id": "e2160315-ccc2-44e3-a2b0-1520870960b3",
   "metadata": {},
   "outputs": [],
   "source": [
    "obj = student3()"
   ]
  },
  {
   "cell_type": "code",
   "execution_count": 16,
   "id": "60ca50d0-81ae-4995-8d12-4f08823dd73d",
   "metadata": {},
   "outputs": [
    {
     "name": "stdout",
     "output_type": "stream",
     "text": [
      "This function is in school.\n"
     ]
    }
   ],
   "source": [
    "obj.func1()"
   ]
  },
  {
   "cell_type": "code",
   "execution_count": 17,
   "id": "d46e6e99-2798-48bd-b238-916b76808e23",
   "metadata": {},
   "outputs": [
    {
     "name": "stdout",
     "output_type": "stream",
     "text": [
      "This function is in student 1. \n"
     ]
    }
   ],
   "source": [
    "obj.func2()"
   ]
  },
  {
   "cell_type": "code",
   "execution_count": null,
   "id": "ce094445-ce54-4190-8faa-b2431e59252e",
   "metadata": {},
   "outputs": [],
   "source": []
  }
 ],
 "metadata": {
  "kernelspec": {
   "display_name": "Python 3 (ipykernel)",
   "language": "python",
   "name": "python3"
  },
  "language_info": {
   "codemirror_mode": {
    "name": "ipython",
    "version": 3
   },
   "file_extension": ".py",
   "mimetype": "text/x-python",
   "name": "python",
   "nbconvert_exporter": "python",
   "pygments_lexer": "ipython3",
   "version": "3.10.8"
  }
 },
 "nbformat": 4,
 "nbformat_minor": 5
}
