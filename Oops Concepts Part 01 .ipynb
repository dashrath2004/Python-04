{
 "cells": [
  {
   "cell_type": "markdown",
   "id": "1eb60b18-ba11-46b6-b34d-c9fb7b706dea",
   "metadata": {},
   "source": [
    "\"Oops\" stands for Object-Oriented Programming System"
   ]
  },
  {
   "cell_type": "code",
   "execution_count": 1,
   "id": "c32a48db-e21e-47a9-bf7e-0fb1c52afec6",
   "metadata": {},
   "outputs": [],
   "source": [
    "a = 1"
   ]
  },
  {
   "cell_type": "code",
   "execution_count": 2,
   "id": "1aac5942-2909-49e0-9a48-a2f7d86182dd",
   "metadata": {},
   "outputs": [
    {
     "name": "stdout",
     "output_type": "stream",
     "text": [
      "<class 'int'>\n"
     ]
    }
   ],
   "source": [
    "print(type(a))"
   ]
  },
  {
   "cell_type": "code",
   "execution_count": 3,
   "id": "50939035-d68f-4bd6-b91b-588a2349df84",
   "metadata": {},
   "outputs": [],
   "source": [
    "b = \"pwskills\""
   ]
  },
  {
   "cell_type": "code",
   "execution_count": 4,
   "id": "5b06bdf5-5fa6-4a25-9e56-684a2a35642e",
   "metadata": {},
   "outputs": [
    {
     "name": "stdout",
     "output_type": "stream",
     "text": [
      "<class 'int'>\n"
     ]
    }
   ],
   "source": [
    "print(type(a))"
   ]
  },
  {
   "cell_type": "code",
   "execution_count": 5,
   "id": "5e04e02c-0fc2-496a-aad9-9faf855ca44c",
   "metadata": {},
   "outputs": [],
   "source": [
    "class test :\n",
    "    pass"
   ]
  },
  {
   "cell_type": "code",
   "execution_count": 6,
   "id": "58c2470e-7eec-439d-907c-897af0a615f4",
   "metadata": {},
   "outputs": [],
   "source": [
    "a = test()"
   ]
  },
  {
   "cell_type": "code",
   "execution_count": 7,
   "id": "e3a15970-7e58-4569-bd1d-b6cc478c371e",
   "metadata": {},
   "outputs": [
    {
     "data": {
      "text/plain": [
       "__main__.test"
      ]
     },
     "execution_count": 7,
     "metadata": {},
     "output_type": "execute_result"
    }
   ],
   "source": [
    "type(a)"
   ]
  },
  {
   "cell_type": "code",
   "execution_count": 8,
   "id": "b9a65bc5-5173-4932-aab3-95466206956c",
   "metadata": {},
   "outputs": [
    {
     "name": "stdout",
     "output_type": "stream",
     "text": [
      "<class '__main__.test'>\n"
     ]
    }
   ],
   "source": [
    "print(type(a))"
   ]
  },
  {
   "cell_type": "code",
   "execution_count": 17,
   "id": "11345f61-7801-4bcf-9458-6608a1adac18",
   "metadata": {},
   "outputs": [],
   "source": [
    "class dashrath:\n",
    "    def welcome_msg(self):\n",
    "        print(\"welcome to pwskills\")"
   ]
  },
  {
   "cell_type": "code",
   "execution_count": 18,
   "id": "0121efa7-011d-4b32-89b8-dcb8a8304fc6",
   "metadata": {},
   "outputs": [],
   "source": [
    "sohan = dashrath()"
   ]
  },
  {
   "cell_type": "code",
   "execution_count": 19,
   "id": "3b014dd7-ed64-47c9-a731-555dc4ba206f",
   "metadata": {},
   "outputs": [
    {
     "name": "stdout",
     "output_type": "stream",
     "text": [
      "<class '__main__.dashrath'>\n"
     ]
    }
   ],
   "source": [
    "print(type(sohan))"
   ]
  },
  {
   "cell_type": "code",
   "execution_count": 21,
   "id": "675a1f19-43c8-4cb7-aad1-a4bdd381ce09",
   "metadata": {},
   "outputs": [
    {
     "name": "stdout",
     "output_type": "stream",
     "text": [
      "welcome to pwskills\n"
     ]
    }
   ],
   "source": [
    "sohan.welcome_msg()"
   ]
  },
  {
   "cell_type": "code",
   "execution_count": 23,
   "id": "a822caf7-5646-4aee-8b5e-829797e5c231",
   "metadata": {},
   "outputs": [],
   "source": [
    "mohan = dashrath()"
   ]
  },
  {
   "cell_type": "code",
   "execution_count": 24,
   "id": "5f00baa6-0eec-481d-bfe8-24d3d77b3636",
   "metadata": {},
   "outputs": [
    {
     "name": "stdout",
     "output_type": "stream",
     "text": [
      "welcome to pwskills\n"
     ]
    }
   ],
   "source": [
    "mohan.welcome_msg()"
   ]
  },
  {
   "cell_type": "code",
   "execution_count": 25,
   "id": "a70a075a-f448-44d5-8a45-1e19014d9592",
   "metadata": {},
   "outputs": [],
   "source": [
    "class dashrath:\n",
    "    \n",
    "    def __init__(self, phone_number, email_id, student_id):\n",
    "        self.phone_number = phone_number\n",
    "        self.email_id = email_id\n",
    "        self.student_id = student_id\n",
    "        \n",
    "    def return_students_detalis(self):\n",
    "        return self.phone_number, self.email_id, self.student_id"
   ]
  },
  {
   "cell_type": "code",
   "execution_count": 26,
   "id": "763d069d-6a9a-48ee-ae5c-86250a830081",
   "metadata": {},
   "outputs": [],
   "source": [
    "sohan = dashrath(746782637 , \"sohan@gmail.com\" , 201)"
   ]
  },
  {
   "cell_type": "code",
   "execution_count": 27,
   "id": "421b12dd-57ba-4db2-b403-4728c512b480",
   "metadata": {},
   "outputs": [
    {
     "data": {
      "text/plain": [
       "(746782637, 'sohan@gmail.com', 201)"
      ]
     },
     "execution_count": 27,
     "metadata": {},
     "output_type": "execute_result"
    }
   ],
   "source": [
    "sohan.return_students_detalis()"
   ]
  },
  {
   "cell_type": "code",
   "execution_count": 29,
   "id": "2efee492-9a85-4e0b-b83a-6a62b74cc522",
   "metadata": {},
   "outputs": [
    {
     "data": {
      "text/plain": [
       "746782637"
      ]
     },
     "execution_count": 29,
     "metadata": {},
     "output_type": "execute_result"
    }
   ],
   "source": [
    "sohan.phone_number"
   ]
  },
  {
   "cell_type": "code",
   "execution_count": 30,
   "id": "19a9b457-e882-4c35-950d-d00306d3ac4d",
   "metadata": {},
   "outputs": [
    {
     "data": {
      "text/plain": [
       "'sohan@gmail.com'"
      ]
     },
     "execution_count": 30,
     "metadata": {},
     "output_type": "execute_result"
    }
   ],
   "source": [
    "sohan.email_id"
   ]
  },
  {
   "cell_type": "code",
   "execution_count": 31,
   "id": "f7288858-8af9-4bd4-b9bb-0bd01526f4b5",
   "metadata": {},
   "outputs": [
    {
     "data": {
      "text/plain": [
       "201"
      ]
     },
     "execution_count": 31,
     "metadata": {},
     "output_type": "execute_result"
    }
   ],
   "source": [
    "sohan.student_id"
   ]
  },
  {
   "cell_type": "code",
   "execution_count": 32,
   "id": "e5a872b9-47d1-4799-a4f2-2886a567c65c",
   "metadata": {},
   "outputs": [],
   "source": [
    "mohan = dashrath(6553755568 , \"mohan@gmail.com\" , 250)"
   ]
  },
  {
   "cell_type": "code",
   "execution_count": 34,
   "id": "cfca67c8-559a-4f37-9f43-db306de31907",
   "metadata": {},
   "outputs": [
    {
     "data": {
      "text/plain": [
       "(6553755568, 'mohan@gmail.com', 250)"
      ]
     },
     "execution_count": 34,
     "metadata": {},
     "output_type": "execute_result"
    }
   ],
   "source": [
    "mohan.return_students_detalis()"
   ]
  },
  {
   "cell_type": "code",
   "execution_count": 35,
   "id": "54a96ea0-d832-4fab-aefe-3bec4bd707b6",
   "metadata": {},
   "outputs": [],
   "source": [
    "class dashrath1:\n",
    "    \n",
    "    def __init__(singh, phone_number, email_id, student_id):\n",
    "        singh.phone_number = phone_number\n",
    "        singh.email_id = email_id\n",
    "        singh.student_id = student_id\n",
    "        \n",
    "    def return_students_detalis(singh):\n",
    "        return singh.phone_number, singh.email_id, singh.student_id"
   ]
  },
  {
   "cell_type": "code",
   "execution_count": 36,
   "id": "1aedeee6-d11e-4b77-adb5-37393f36d5e4",
   "metadata": {},
   "outputs": [],
   "source": [
    "rohan = dashrath1(857875956 , \"rohan@gmail.com\" , 18)"
   ]
  },
  {
   "cell_type": "code",
   "execution_count": 37,
   "id": "84f8eba2-9f0a-4021-b189-8ecbcf6bd0de",
   "metadata": {},
   "outputs": [
    {
     "data": {
      "text/plain": [
       "(857875956, 'rohan@gmail.com', 18)"
      ]
     },
     "execution_count": 37,
     "metadata": {},
     "output_type": "execute_result"
    }
   ],
   "source": [
    "rohan.return_students_detalis()"
   ]
  },
  {
   "cell_type": "code",
   "execution_count": null,
   "id": "04d3c786-cafa-432c-8a93-18273feb05fd",
   "metadata": {},
   "outputs": [],
   "source": []
  }
 ],
 "metadata": {
  "kernelspec": {
   "display_name": "Python 3 (ipykernel)",
   "language": "python",
   "name": "python3"
  },
  "language_info": {
   "codemirror_mode": {
    "name": "ipython",
    "version": 3
   },
   "file_extension": ".py",
   "mimetype": "text/x-python",
   "name": "python",
   "nbconvert_exporter": "python",
   "pygments_lexer": "ipython3",
   "version": "3.10.8"
  }
 },
 "nbformat": 4,
 "nbformat_minor": 5
}
