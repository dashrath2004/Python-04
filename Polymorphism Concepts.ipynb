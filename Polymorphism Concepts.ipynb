{
 "cells": [
  {
   "cell_type": "code",
   "execution_count": 1,
   "id": "fe98161c-1c4c-48ec-9ff0-24627edf4052",
   "metadata": {},
   "outputs": [],
   "source": [
    "def test(a , b):\n",
    "    return a+b"
   ]
  },
  {
   "cell_type": "code",
   "execution_count": 2,
   "id": "643f16a2-a9e1-43b6-8e66-21fc84a58adb",
   "metadata": {},
   "outputs": [
    {
     "data": {
      "text/plain": [
       "11"
      ]
     },
     "execution_count": 2,
     "metadata": {},
     "output_type": "execute_result"
    }
   ],
   "source": [
    "test(5,6)"
   ]
  },
  {
   "cell_type": "code",
   "execution_count": 3,
   "id": "9b536264-3af9-4f23-b8be-5e3b035a7ac0",
   "metadata": {},
   "outputs": [
    {
     "data": {
      "text/plain": [
       "'dashrath singh'"
      ]
     },
     "execution_count": 3,
     "metadata": {},
     "output_type": "execute_result"
    }
   ],
   "source": [
    "test(\"dashrath\" , \" singh\")"
   ]
  },
  {
   "cell_type": "code",
   "execution_count": 4,
   "id": "78c3b6f0-5606-4f23-8ded-819bd45c869d",
   "metadata": {},
   "outputs": [
    {
     "data": {
      "text/plain": [
       "[3, 4, 5, 6, 7, 8]"
      ]
     },
     "execution_count": 4,
     "metadata": {},
     "output_type": "execute_result"
    }
   ],
   "source": [
    "test([3,4,5,] , [6,7,8,])"
   ]
  },
  {
   "cell_type": "code",
   "execution_count": 1,
   "id": "b0de0c42-ce6b-4410-bc82-edc79810bc6d",
   "metadata": {},
   "outputs": [],
   "source": [
    "class data_science:\n",
    "    \n",
    "    def syllabus(self):\n",
    "        print(\"this is my syllabus for data science\")"
   ]
  },
  {
   "cell_type": "code",
   "execution_count": 2,
   "id": "9301080d-1390-4885-9141-b0a65b0504bd",
   "metadata": {},
   "outputs": [],
   "source": [
    "class web_dev:\n",
    "    \n",
    "    def syllabus(self):\n",
    "        print(\"this is my syllabus for web dev\")"
   ]
  },
  {
   "cell_type": "code",
   "execution_count": 3,
   "id": "a3408b53-e0b8-4c0c-9d67-25d5906f2aac",
   "metadata": {},
   "outputs": [],
   "source": [
    "def class_parcer(class_obj):\n",
    "    for i in class_obj:\n",
    "        i.syllabus()\n",
    "        "
   ]
  },
  {
   "cell_type": "code",
   "execution_count": 4,
   "id": "8f2ee392-c51e-48f3-bebc-247a0e569290",
   "metadata": {},
   "outputs": [],
   "source": [
    "data_science = data_science()"
   ]
  },
  {
   "cell_type": "code",
   "execution_count": 5,
   "id": "9d87c074-01bf-4c0d-b692-eec54cd61d7d",
   "metadata": {},
   "outputs": [],
   "source": [
    "web_dev = web_dev()"
   ]
  },
  {
   "cell_type": "code",
   "execution_count": 6,
   "id": "6dee2801-d290-4f5a-9804-790f8121e63d",
   "metadata": {},
   "outputs": [],
   "source": [
    "class_obj = [data_science , web_dev]"
   ]
  },
  {
   "cell_type": "code",
   "execution_count": 8,
   "id": "d7b674ac-2795-46e0-b18f-e9d345aae579",
   "metadata": {},
   "outputs": [
    {
     "name": "stdout",
     "output_type": "stream",
     "text": [
      "this is my syllabus for data science\n",
      "this is my syllabus for web dev\n"
     ]
    }
   ],
   "source": [
    "class_parcer(class_obj)"
   ]
  },
  {
   "cell_type": "code",
   "execution_count": null,
   "id": "02f49e4b-8e5b-40b0-a79e-b6ca31f9c578",
   "metadata": {},
   "outputs": [],
   "source": []
  }
 ],
 "metadata": {
  "kernelspec": {
   "display_name": "Python 3 (ipykernel)",
   "language": "python",
   "name": "python3"
  },
  "language_info": {
   "codemirror_mode": {
    "name": "ipython",
    "version": 3
   },
   "file_extension": ".py",
   "mimetype": "text/x-python",
   "name": "python",
   "nbconvert_exporter": "python",
   "pygments_lexer": "ipython3",
   "version": "3.10.8"
  }
 },
 "nbformat": 4,
 "nbformat_minor": 5
}
