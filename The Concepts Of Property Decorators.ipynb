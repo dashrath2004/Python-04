{
 "cells": [
  {
   "cell_type": "code",
   "execution_count": 1,
   "id": "a8cea4dd-4f4a-4296-bbae-7e759ae7113e",
   "metadata": {},
   "outputs": [],
   "source": [
    "class pwskills :\n",
    "    \n",
    "    def __init__(self , course_price , coruse_name):\n",
    "        \n",
    "        self.__course_price = course_price\n",
    "        self.course_name = coruse_name\n",
    "        "
   ]
  },
  {
   "cell_type": "code",
   "execution_count": 2,
   "id": "d877711b-fae7-48b6-a806-c6873ca5ef05",
   "metadata": {},
   "outputs": [],
   "source": [
    "pw = pwskills(7000 , \"data science\")"
   ]
  },
  {
   "cell_type": "code",
   "execution_count": 3,
   "id": "765b7f3c-404d-4f07-a2b1-742319e186be",
   "metadata": {},
   "outputs": [
    {
     "data": {
      "text/plain": [
       "'data science'"
      ]
     },
     "execution_count": 3,
     "metadata": {},
     "output_type": "execute_result"
    }
   ],
   "source": [
    "pw.course_name"
   ]
  },
  {
   "cell_type": "code",
   "execution_count": 4,
   "id": "d51f1429-ab8c-4af1-8973-e18924dd62be",
   "metadata": {},
   "outputs": [
    {
     "ename": "AttributeError",
     "evalue": "'pwskills' object has no attribute 'course_price'",
     "output_type": "error",
     "traceback": [
      "\u001b[0;31m---------------------------------------------------------------------------\u001b[0m",
      "\u001b[0;31mAttributeError\u001b[0m                            Traceback (most recent call last)",
      "Cell \u001b[0;32mIn[4], line 1\u001b[0m\n\u001b[0;32m----> 1\u001b[0m \u001b[43mpw\u001b[49m\u001b[38;5;241;43m.\u001b[39;49m\u001b[43mcourse_price\u001b[49m\n",
      "\u001b[0;31mAttributeError\u001b[0m: 'pwskills' object has no attribute 'course_price'"
     ]
    }
   ],
   "source": [
    "pw.course_price"
   ]
  },
  {
   "cell_type": "code",
   "execution_count": 6,
   "id": "aed4bb5d-9c99-4ed8-8606-22eddaec7049",
   "metadata": {},
   "outputs": [
    {
     "data": {
      "text/plain": [
       "7000"
      ]
     },
     "execution_count": 6,
     "metadata": {},
     "output_type": "execute_result"
    }
   ],
   "source": [
    "pw._pwskills__course_price"
   ]
  },
  {
   "cell_type": "code",
   "execution_count": 7,
   "id": "f5a0d9b2-ca87-4d9f-8c85-1fcc075e8dde",
   "metadata": {},
   "outputs": [],
   "source": [
    "class pwskills :\n",
    "    \n",
    "    def __init__(self , course_price , coruse_name):\n",
    "        \n",
    "        self.__course_price = course_price\n",
    "        self.course_name = coruse_name\n",
    "        \n",
    "    @property\n",
    "    def course_price_access(self) : \n",
    "        return self.__course_price       "
   ]
  },
  {
   "cell_type": "code",
   "execution_count": 8,
   "id": "dff2e894-fb8f-4aeb-83c6-be56bcbcfd0e",
   "metadata": {},
   "outputs": [],
   "source": [
    "pw = pwskills(7000 , \"data science\")"
   ]
  },
  {
   "cell_type": "code",
   "execution_count": 9,
   "id": "0f60adea-b4ce-4cf9-8315-71352bfa93bc",
   "metadata": {},
   "outputs": [
    {
     "data": {
      "text/plain": [
       "7000"
      ]
     },
     "execution_count": 9,
     "metadata": {},
     "output_type": "execute_result"
    }
   ],
   "source": [
    "pw.course_price_access"
   ]
  },
  {
   "cell_type": "code",
   "execution_count": 15,
   "id": "99863ef1-4ad0-4122-82fa-15028d1a5091",
   "metadata": {},
   "outputs": [],
   "source": [
    "class pwskills :\n",
    "    \n",
    "    def __init__(self , course_price , coruse_name):\n",
    "        \n",
    "        self.__course_price = course_price\n",
    "        self.course_name = coruse_name\n",
    "        \n",
    "    @property\n",
    "    def course_price_access(self) : \n",
    "        return self.__course_price\n",
    "    \n",
    "    @course_price_access.setter\n",
    "    def course_price_set(self , price ):\n",
    "        if price <= 7000:\n",
    "            pass\n",
    "        else :\n",
    "            self.__course_price = price"
   ]
  },
  {
   "cell_type": "code",
   "execution_count": 18,
   "id": "c73e59ce-0510-43f4-9192-e123da76d482",
   "metadata": {},
   "outputs": [],
   "source": [
    "pw.course_price_set = 8000"
   ]
  },
  {
   "cell_type": "code",
   "execution_count": 19,
   "id": "40f594ee-f5ea-46f3-be4d-10979d6d2444",
   "metadata": {},
   "outputs": [
    {
     "data": {
      "text/plain": [
       "7000"
      ]
     },
     "execution_count": 19,
     "metadata": {},
     "output_type": "execute_result"
    }
   ],
   "source": [
    "pw.course_price_access"
   ]
  },
  {
   "cell_type": "code",
   "execution_count": 20,
   "id": "5c549d14-5f7e-40e1-9ca6-d03c38b71160",
   "metadata": {},
   "outputs": [],
   "source": [
    "class pwskills :\n",
    "    \n",
    "    def __init__(self , course_price , coruse_name):\n",
    "        \n",
    "        self.__course_price = course_price\n",
    "        self.course_name = coruse_name\n",
    "        \n",
    "    @property\n",
    "    def course_price_access(self) : \n",
    "        return self.__course_price\n",
    "    \n",
    "    @course_price_access.setter\n",
    "    def course_price_set(self , price ):\n",
    "        if price <= 7000:\n",
    "            pass\n",
    "        else :\n",
    "            self.__course_price = price\n",
    "            \n",
    "    @course_price_access.deleter\n",
    "    def delete_course_price(self) : \n",
    "        del self.__course_price\n",
    "    \n",
    "    "
   ]
  },
  {
   "cell_type": "code",
   "execution_count": 23,
   "id": "450180f8-2b6a-4e51-874c-12ec27b5b655",
   "metadata": {},
   "outputs": [
    {
     "ename": "AttributeError",
     "evalue": "delete_course_price",
     "output_type": "error",
     "traceback": [
      "\u001b[0;31m---------------------------------------------------------------------------\u001b[0m",
      "\u001b[0;31mAttributeError\u001b[0m                            Traceback (most recent call last)",
      "Cell \u001b[0;32mIn[23], line 1\u001b[0m\n\u001b[0;32m----> 1\u001b[0m \u001b[38;5;28;01mdel\u001b[39;00m pw\u001b[38;5;241m.\u001b[39mdelete_course_price\n",
      "\u001b[0;31mAttributeError\u001b[0m: delete_course_price"
     ]
    }
   ],
   "source": [
    "del pw.delete_course_price"
   ]
  },
  {
   "cell_type": "code",
   "execution_count": null,
   "id": "7f91f777-5c00-40b5-b716-6619793ed813",
   "metadata": {},
   "outputs": [],
   "source": []
  }
 ],
 "metadata": {
  "kernelspec": {
   "display_name": "Python 3 (ipykernel)",
   "language": "python",
   "name": "python3"
  },
  "language_info": {
   "codemirror_mode": {
    "name": "ipython",
    "version": 3
   },
   "file_extension": ".py",
   "mimetype": "text/x-python",
   "name": "python",
   "nbconvert_exporter": "python",
   "pygments_lexer": "ipython3",
   "version": "3.10.8"
  }
 },
 "nbformat": 4,
 "nbformat_minor": 5
}
